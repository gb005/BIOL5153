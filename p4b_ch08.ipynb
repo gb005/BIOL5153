{
 "cells": [
  {
   "cell_type": "code",
   "execution_count": 87,
   "metadata": {
    "collapsed": false
   },
   "outputs": [
    {
     "name": "stdout",
     "output_type": "stream",
     "text": [
      "Print 1: \n",
      " [0, 1, 0, 0, 0, 0, 1, 2, 0, 0, 0, 0, 0, 0, 1, 0, 0, 0, 0, 1, 0, 0, 0, 0, 2, 0, 0, 0, 0, 0, 2, 0, 0, 2, 0, 0, 1, 0, 0, 0, 0, 0, 0, 0, 0, 1, 0, 0, 0, 0, 0, 0, 0, 0, 1, 0, 1, 1, 0, 1, 0, 0, 0, 0]\n",
      "Print 2: \n",
      " ['AAA', 'AAT', 'AAG', 'AAC', 'ATA', 'ATT', 'ATG', 'ATC', 'AGA', 'AGT', 'AGG', 'AGC', 'ACA', 'ACT', 'ACG', 'ACC', 'TAA', 'TAT', 'TAG', 'TAC', 'TTA', 'TTT', 'TTG', 'TTC', 'TGA', 'TGT', 'TGG', 'TGC', 'TCA', 'TCT', 'TCG', 'TCC', 'GAA', 'GAT', 'GAG', 'GAC', 'GTA', 'GTT', 'GTG', 'GTC', 'GGA', 'GGT', 'GGG', 'GGC', 'GCA', 'GCT', 'GCG', 'GCC', 'CAA', 'CAT', 'CAG', 'CAC', 'CTA', 'CTT', 'CTG', 'CTC', 'CGA', 'CGT', 'CGG', 'CGC', 'CCA', 'CCT', 'CCG', 'CCC']\n",
      "Print 3: \n",
      " count for TGA is 2\n"
     ]
    }
   ],
   "source": [
    "dna = \"AATGATCGATCGTACGCTGA\"\n",
    "all_trinucleotides = []\n",
    "all_counts = []\n",
    "for base1 in ['A', 'T', 'G', 'C']:\n",
    "    for base2 in ['A', 'T', 'G', 'C']:\n",
    "        for base3 in ['A', 'T', 'G', 'C']:\n",
    "            trinucleotide = base1 + base2 + base3\n",
    "            count = dna.count(trinucleotide)\n",
    "            all_trinucleotides.append(trinucleotide)\n",
    "            all_counts.append(count)\n",
    "print(\"Print 1:\",\"\\n\",all_counts)\n",
    "print(\"Print 2:\",\"\\n\",all_trinucleotides)\n",
    "i = all_trinucleotides.index('TGA')\n",
    "c = all_counts[i]\n",
    "print(\"Print 3:\",\"\\n\",'count for TGA is ' + str(c))"
   ]
  },
  {
   "cell_type": "code",
   "execution_count": 104,
   "metadata": {
    "collapsed": false
   },
   "outputs": [
    {
     "name": "stdout",
     "output_type": "stream",
     "text": [
      "GAATTC\n"
     ]
    }
   ],
   "source": [
    "enzymes = {\n",
    "'EcoRI' : r'GAATTC',\n",
    "'AvaII' : r'GG(A|T)CC',\n",
    "'BisI' : r'GC[ATGC]GC'\n",
    "}\n",
    "print(enzymes['EcoRI'])"
   ]
  },
  {
   "cell_type": "code",
   "execution_count": 114,
   "metadata": {
    "collapsed": false
   },
   "outputs": [
    {
     "name": "stdout",
     "output_type": "stream",
     "text": [
      "{'EcoRI': 'GAATTC', 'BisI': 'GC[ATGC]GC'}\n"
     ]
    }
   ],
   "source": [
    "enzymes = {}\n",
    "enzymes['EcoRI'] = r'GAATTC'\n",
    "enzymes['AvaII'] = r'GG(A|T)CC'\n",
    "enzymes['BisI'] = r'GC[ATGC]GC'\n",
    "\n",
    "#delete or remove one item\n",
    "enzymes.pop('AvaII')\n",
    "print(enzymes)\n"
   ]
  },
  {
   "cell_type": "code",
   "execution_count": 155,
   "metadata": {
    "collapsed": false
   },
   "outputs": [
    {
     "name": "stdout",
     "output_type": "stream",
     "text": [
      "{'AATG': 1, 'ATGA': 1, 'ATCG': 2, 'ACGC': 1, 'TACG': 1, 'TGAT': 1, 'TCGA': 1, 'TCGT': 1, 'GATC': 2, 'GTAC': 1, 'GCTG': 1, 'CTGA': 1, 'CGAT': 1, 'CGTA': 1, 'CGCT': 1}\n",
      "1 :is the number of count of ATGA\n",
      "count for 'ATCG' is 2\n"
     ]
    }
   ],
   "source": [
    "dna = \"AATGATCGATCGTACGCTGA\"\n",
    "counts = {}\n",
    "for base1 in ['A', 'T', 'G', 'C']:\n",
    "    for base2 in ['A', 'T', 'G', 'C']:\n",
    "        for base3 in ['A', 'T', 'G', 'C']:\n",
    "            for base4 in ['A', 'T', 'G', 'C']:\n",
    "                #trinucleotide = base1 + base2 + base3\n",
    "                tetranucleotide = base1 + base2 + base3 + base4\n",
    "                count = dna.count(tetranucleotide)\n",
    "                if count > 0:\n",
    "                    counts[tetranucleotide] = count\n",
    "\n",
    "#print(\"just checking with above code: \" \"\\n\", counts['AATG'])\n",
    "print(counts)\n",
    "print(counts['ATGA'],\":is the number of count of ATGA\")\n",
    "print(\"count for 'ATCG' is \" + str(counts['ATCG']))"
   ]
  },
  {
   "cell_type": "code",
   "execution_count": 161,
   "metadata": {
    "collapsed": false
   },
   "outputs": [
    {
     "ename": "IndentationError",
     "evalue": "expected an indented block (<ipython-input-161-a2185b6d2594>, line 8)",
     "output_type": "error",
     "traceback": [
      "\u001b[0;36m  File \u001b[0;32m\"<ipython-input-161-a2185b6d2594>\"\u001b[0;36m, line \u001b[0;32m8\u001b[0m\n\u001b[0;31m    print(trinucleotide)\u001b[0m\n\u001b[0m                        ^\u001b[0m\n\u001b[0;31mIndentationError\u001b[0m\u001b[0;31m:\u001b[0m expected an indented block\n"
     ]
    }
   ],
   "source": [
    "dna = \"AATGATCGATCGTACGCTGA\"\n",
    "counts = {}\n",
    "for base1 in ['A', 'T', 'G', 'C']:\n",
    "    for base2 in ['A', 'T', 'G', 'C']:\n",
    "        for base3 in ['A', 'T', 'G', 'C']:\n",
    "            trinucleotide = base1 + base2 + base3\n",
    "            if counts.get(trinucleotide, 0) == 2:\n",
    "print(trinucleotide)"
   ]
  },
  {
   "cell_type": "code",
   "execution_count": 164,
   "metadata": {
    "collapsed": false
   },
   "outputs": [
    {
     "name": "stdout",
     "output_type": "stream",
     "text": [
      "ATG TTC GGT\n"
     ]
    }
   ],
   "source": [
    "dna = \"ATGTTCGGT\"\n",
    "codon1 = dna[0:3]\n",
    "codon2 = dna[3:6]\n",
    "codon3 = dna[6:9]\n",
    "print(codon1, codon2, codon3)"
   ]
  },
  {
   "cell_type": "code",
   "execution_count": 191,
   "metadata": {
    "collapsed": false
   },
   "outputs": [
    {
     "name": "stdout",
     "output_type": "stream",
     "text": [
      "one codon is ATG\n",
      "one codon is TTC\n",
      "one codon is GGT\n"
     ]
    }
   ],
   "source": [
    "dna = \"ATGTTCGGT\"\n",
    "for start in range(0,7,3):\n",
    "    codon = dna[start:start+3]\n",
    "    print(\"one codon is \" + codon)\n",
    "    #print(start)"
   ]
  },
  {
   "cell_type": "code",
   "execution_count": 197,
   "metadata": {
    "collapsed": false
   },
   "outputs": [
    {
     "name": "stdout",
     "output_type": "stream",
     "text": [
      "one codon is ATG\n",
      "one codon is TT\n",
      "one codon is \n"
     ]
    }
   ],
   "source": [
    "dna5 = \"ATGTT\"\n",
    "for start in range(0,7,3):\n",
    "    codon5 = dna5[start:start+3]\n",
    "    print(\"one codon is \"+ codon5)"
   ]
  },
  {
   "cell_type": "code",
   "execution_count": 200,
   "metadata": {
    "collapsed": false
   },
   "outputs": [
    {
     "name": "stdout",
     "output_type": "stream",
     "text": [
      "one codon is ATG\n",
      "one codon is TTC\n",
      "one codon is GGT\n"
     ]
    }
   ],
   "source": [
    "dna23 = \"ATGTTCGGTGAAGCGGGCTAGAT\"\n",
    "#print(len(dna))\n",
    "for start in range(0,7,3):\n",
    "    codon23 = dna23[start:start+3]\n",
    "    print(\"one codon is \" + codon23)"
   ]
  },
  {
   "cell_type": "code",
   "execution_count": 206,
   "metadata": {
    "collapsed": false
   },
   "outputs": [],
   "source": [
    "dna = \"ATGTTCGGT\"\n",
    "# calculate the start position for the final codon\n",
    "last_codon_start = len(dna) - 2\n",
    "#print(last_codon_start)"
   ]
  },
  {
   "cell_type": "code",
   "execution_count": 214,
   "metadata": {
    "collapsed": false
   },
   "outputs": [
    {
     "name": "stdout",
     "output_type": "stream",
     "text": [
      "one codon is ATG\n",
      "one codon is TTC\n",
      "one codon is GGT\n"
     ]
    }
   ],
   "source": [
    "dna = \"ATGTTCGGT\"\n",
    "# calculate the start position for the final codon\n",
    "last_codon_start = len(dna) - 2\n",
    "# process the dna sequence in three base chunks\n",
    "for start in range(0,last_codon_start,3):\n",
    "    codon = dna[start:start+3]\n",
    "    print(\"one codon is \" + codon)"
   ]
  }
 ],
 "metadata": {
  "kernelspec": {
   "display_name": "Python 3",
   "language": "python",
   "name": "python3"
  },
  "language_info": {
   "codemirror_mode": {
    "name": "ipython",
    "version": 3
   },
   "file_extension": ".py",
   "mimetype": "text/x-python",
   "name": "python",
   "nbconvert_exporter": "python",
   "pygments_lexer": "ipython3",
   "version": "3.6.0"
  }
 },
 "nbformat": 4,
 "nbformat_minor": 2
}
