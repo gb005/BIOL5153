{
 "cells": [
  {
   "cell_type": "code",
   "execution_count": 2,
   "metadata": {
    "collapsed": true
   },
   "outputs": [],
   "source": [
    "# my_file is a variable, asking to 'open' text doc \"dna.txt\"\n",
    "my_file = open(\"dna.txt\")"
   ]
  },
  {
   "cell_type": "code",
   "execution_count": 9,
   "metadata": {
    "collapsed": false
   },
   "outputs": [
    {
     "name": "stdout",
     "output_type": "stream",
     "text": [
      "abcdefg\n",
      "43\n"
     ]
    }
   ],
   "source": [
    "my_string = 'abcdefg'\n",
    "print(my_string)\n",
    "my_number = 42\n",
    "print(my_number + 1)"
   ]
  },
  {
   "cell_type": "code",
   "execution_count": 14,
   "metadata": {
    "collapsed": false
   },
   "outputs": [
    {
     "name": "stdout",
     "output_type": "stream",
     "text": [
      "gehendra bhattarai\n"
     ]
    }
   ],
   "source": [
    "# my_file is a variable, asking to 'open' text doc \"dna.txt\". here, \"dna.txt\" is a string and isstored in variable: my_file  \n",
    "my_file = open(\"dna.txt\")\n",
    "\n",
    "# we enable to read the contents of 'my_file' that was created above\n",
    "file_contents = my_file.read()\n",
    "\n",
    "#print file_contents variable:\n",
    "print(file_contents)"
   ]
  },
  {
   "cell_type": "code",
   "execution_count": 24,
   "metadata": {
    "collapsed": false
   },
   "outputs": [
    {
     "name": "stdout",
     "output_type": "stream",
     "text": [
      "my name is Gehendra Bhattarai. number of letters in my name is: 18.\n",
      " I wrote my name using Jupyter notebook\n"
     ]
    }
   ],
   "source": [
    "# just open the file. conetnt in file is \"gehendra bhattarai\"\n",
    "my_file = open(\"dna.txt\")\n",
    "\n",
    "# read the file(my_file)\n",
    "my_dna = my_file.read()\n",
    "\n",
    "# compute length of the file content\n",
    "dna_length = len(my_dna)\n",
    "\n",
    "# print output as below. \n",
    "print(\"my name is Gehendra Bhattarai. number of letters in my name is: \" + str(dna_length) + \".\\n\" + \" I wrote my name using Jupyter notebook\")"
   ]
  },
  {
   "cell_type": "code",
   "execution_count": 32,
   "metadata": {
    "collapsed": false
   },
   "outputs": [
    {
     "data": {
      "text/plain": [
       "33"
      ]
     },
     "execution_count": 32,
     "metadata": {},
     "output_type": "execute_result"
    }
   ],
   "source": [
    "# opening a file for writing. this is creating a file in python/jupyter\n",
    "my_file_ch3 = open(\"out.txt\", \"w\")\n",
    "# writing contents in the file\n",
    "my_file_ch3.write(\"hello gehendra, how are you today\")"
   ]
  },
  {
   "cell_type": "code",
   "execution_count": 34,
   "metadata": {
    "collapsed": true
   },
   "outputs": [],
   "source": [
    "# now we want to and have to close the file\n",
    "my_file_ch3.close()"
   ]
  },
  {
   "cell_type": "code",
   "execution_count": 43,
   "metadata": {
    "collapsed": false,
    "scrolled": true
   },
   "outputs": [
    {
     "ename": "FileNotFoundError",
     "evalue": "[Errno 2] No such file or directory: 'C:\\\\Users\\\\Adminstrator\\\\Desktop\\\\for_jupyter\\\\new1.txt'",
     "output_type": "error",
     "traceback": [
      "\u001b[0;31m---------------------------------------------------------------------------\u001b[0m",
      "\u001b[0;31mFileNotFoundError\u001b[0m                         Traceback (most recent call last)",
      "\u001b[0;32m<ipython-input-43-4c6501e4e5a1>\u001b[0m in \u001b[0;36m<module>\u001b[0;34m()\u001b[0m\n\u001b[1;32m      1\u001b[0m \u001b[1;31m# open file from some other folder (didn't work, why??)\u001b[0m\u001b[1;33m\u001b[0m\u001b[1;33m\u001b[0m\u001b[0m\n\u001b[0;32m----> 2\u001b[0;31m \u001b[0mmy_file_ch3_G\u001b[0m \u001b[1;33m=\u001b[0m \u001b[0mopen\u001b[0m\u001b[1;33m(\u001b[0m\u001b[1;34mr\"C:\\Users\\Adminstrator\\Desktop\\for_jupyter\\new1.txt\"\u001b[0m\u001b[1;33m,\u001b[0m \u001b[1;34m\"w\"\u001b[0m\u001b[1;33m)\u001b[0m\u001b[1;33m\u001b[0m\u001b[0m\n\u001b[0m\u001b[1;32m      3\u001b[0m \u001b[0mmy_note\u001b[0m \u001b[1;33m=\u001b[0m \u001b[0mmy_file_ch3_G\u001b[0m\u001b[1;33m.\u001b[0m\u001b[0mread\u001b[0m\u001b[1;33m(\u001b[0m\u001b[1;33m)\u001b[0m\u001b[1;33m\u001b[0m\u001b[0m\n\u001b[1;32m      4\u001b[0m \u001b[0mprint\u001b[0m\u001b[1;33m(\u001b[0m\u001b[0mmy_note\u001b[0m\u001b[1;33m)\u001b[0m\u001b[1;33m\u001b[0m\u001b[0m\n\u001b[1;32m      5\u001b[0m \u001b[1;31m# my_file_ch3_G.write(\"now i can open files from other drives.\")\u001b[0m\u001b[1;33m\u001b[0m\u001b[1;33m\u001b[0m\u001b[0m\n",
      "\u001b[0;31mFileNotFoundError\u001b[0m: [Errno 2] No such file or directory: 'C:\\\\Users\\\\Adminstrator\\\\Desktop\\\\for_jupyter\\\\new1.txt'"
     ]
    }
   ],
   "source": [
    "# open file from some other folder (didn't work, why??)\n",
    "my_file_ch3_G = open(r\"C:\\Users\\Adminstrator\\Desktop\\for_jupyter\\new1.txt\", \"w\")\n",
    "my_note = my_file_ch3_G.read()\n",
    "print(my_note)\n",
    "# my_file_ch3_G.write(\"now i can open files from other drives.\")"
   ]
  }
 ],
 "metadata": {
  "kernelspec": {
   "display_name": "Python 3",
   "language": "python",
   "name": "python3"
  },
  "language_info": {
   "codemirror_mode": {
    "name": "ipython",
    "version": 3
   },
   "file_extension": ".py",
   "mimetype": "text/x-python",
   "name": "python",
   "nbconvert_exporter": "python",
   "pygments_lexer": "ipython3",
   "version": "3.6.0"
  }
 },
 "nbformat": 4,
 "nbformat_minor": 2
}
