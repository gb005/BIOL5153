{
 "cells": [
  {
   "cell_type": "code",
   "execution_count": 5,
   "metadata": {
    "collapsed": false
   },
   "outputs": [
    {
     "name": "stdout",
     "output_type": "stream",
     "text": [
      "hello world, and they replied 'hello'\n"
     ]
    }
   ],
   "source": [
    "print(\"hello world, and they replied 'hello'\")"
   ]
  },
  {
   "cell_type": "code",
   "execution_count": 8,
   "metadata": {
    "collapsed": false
   },
   "outputs": [
    {
     "name": "stdout",
     "output_type": "stream",
     "text": [
      "my name is gehendra\n",
      "   i am taking BIOL5153 this term\n"
     ]
    }
   ],
   "source": [
    "# this '#' symbol is used to make note or comments which helps a lot\n",
    "# to print in a sepetrate lines, '\\n' is used. strings after \\n goes to next lines.\n",
    "print(\"my name is gehendra\\n   i am taking BIOL5153 this term\")"
   ]
  },
  {
   "cell_type": "code",
   "execution_count": 12,
   "metadata": {
    "collapsed": false
   },
   "outputs": [
    {
     "name": "stdout",
     "output_type": "stream",
     "text": [
      "my name is gehendra\n",
      "\t i am taking BIOL5153 this term\n"
     ]
    }
   ],
   "source": [
    "# \\t is used to add tab \n",
    "print(\"my name is gehendra\\n\\t i am taking BIOL5153 this term\")"
   ]
  },
  {
   "cell_type": "code",
   "execution_count": 17,
   "metadata": {
    "collapsed": false
   },
   "outputs": [
    {
     "name": "stdout",
     "output_type": "stream",
     "text": [
      "ATCTATCT\n"
     ]
    }
   ],
   "source": [
    "# create and store variable that contains DNA sequence\n",
    "nucleotide1 = \"ATCTATCT\"\n",
    "# now print contents of the variable 'nucleotide'\n",
    "print(nucleotide)"
   ]
  },
  {
   "cell_type": "code",
   "execution_count": 22,
   "metadata": {
    "collapsed": false
   },
   "outputs": [
    {
     "name": "stdout",
     "output_type": "stream",
     "text": [
      "ATCTATCTGTGTGT\n"
     ]
    }
   ],
   "source": [
    "nucleotide2 = \"GTGTGT\"\n",
    "#to concatenate nucelotide 1 and nucleotide 2, use +\n",
    "nucleotide1_2 = nucleotide1 + nucleotide2\n",
    "#now, print concatenated file\n",
    "print(nucleotide1_2)"
   ]
  },
  {
   "cell_type": "code",
   "execution_count": 32,
   "metadata": {
    "collapsed": false
   },
   "outputs": [
    {
     "name": "stdout",
     "output_type": "stream",
     "text": [
      "6\n"
     ]
    }
   ],
   "source": [
    "# length of string is counted\n",
    "nucleotide2_length = len(nucleotide2)\n",
    "# use of str to display numericals or length number of given strings\n",
    "print(str(nucleotide2_length))"
   ]
  },
  {
   "cell_type": "code",
   "execution_count": 47,
   "metadata": {
    "collapsed": false
   },
   "outputs": [
    {
     "name": "stdout",
     "output_type": "stream",
     "text": [
      "GTGTGTCTCTCT\n",
      "CTCTCT\n"
     ]
    }
   ],
   "source": [
    "# new sequence \n",
    "seq = \"ATATATCTCTCT\"\n",
    "# replece 'A' with 'G' and print\n",
    "print(seq.replace(\"A\",\"G\"))\n",
    "# print only 'CT' repeats\n",
    "print(seq[6:12])"
   ]
  }
 ],
 "metadata": {
  "kernelspec": {
   "display_name": "Python 3",
   "language": "python",
   "name": "python3"
  },
  "language_info": {
   "codemirror_mode": {
    "name": "ipython",
    "version": 3
   },
   "file_extension": ".py",
   "mimetype": "text/x-python",
   "name": "python",
   "nbconvert_exporter": "python",
   "pygments_lexer": "ipython3",
   "version": "3.6.0"
  }
 },
 "nbformat": 4,
 "nbformat_minor": 2
}
