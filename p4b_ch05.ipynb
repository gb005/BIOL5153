{
 "cells": [
  {
   "cell_type": "code",
   "execution_count": 10,
   "metadata": {
    "collapsed": false
   },
   "outputs": [
    {
     "name": "stdout",
     "output_type": "stream",
     "text": [
      "AT content is: 0.6851851851851852\n"
     ]
    }
   ],
   "source": [
    "my_dna = \"ACTGATCGATTACGTATAGTATTTGCTATCATACATATATATCGATGCGTTCAT\"\n",
    "length = len(my_dna)\n",
    "a_count = my_dna.count('A')\n",
    "t_count = my_dna.count('T')\n",
    "at_content = (a_count + t_count) / length\n",
    "print(\"AT content is: \" + str(at_content))"
   ]
  },
  {
   "cell_type": "code",
   "execution_count": 26,
   "metadata": {
    "collapsed": false
   },
   "outputs": [
    {
     "name": "stdout",
     "output_type": "stream",
     "text": [
      "0.45\n",
      "0.53\n",
      "0.0\n"
     ]
    }
   ],
   "source": [
    "def get_at_content(dna):\n",
    "    length = len(dna)\n",
    "    a_count = dna.count('A')\n",
    "    t_count = dna.count('T')\n",
    "    at_content = (a_count + t_count) / length\n",
    "    return round(at_content,2)\n",
    "\n",
    "my_at_content = get_at_content(\"ATGCGCGATCGATCGAATCG\")\n",
    "print(str(my_at_content))\n",
    "print(get_at_content(\"ATGCATGCAACTGTAGC\"))\n",
    "print(get_at_content(\"aactgtagctagctagcagcgta\"))"
   ]
  },
  {
   "cell_type": "code",
   "execution_count": 27,
   "metadata": {
    "collapsed": false
   },
   "outputs": [
    {
     "name": "stdout",
     "output_type": "stream",
     "text": [
      "0.45\n",
      "0.53\n",
      "0.52\n"
     ]
    }
   ],
   "source": [
    "def get_at_content(dna):\n",
    "    length = len(dna)\n",
    "    a_count = dna.upper().count('A')\n",
    "    t_count = dna.upper().count('T')\n",
    "    at_content = (a_count + t_count) / length\n",
    "    return round(at_content, 2)\n",
    "my_at_content = get_at_content(\"ATGCGCGATCGATCGAATCG\")\n",
    "print(str(my_at_content))\n",
    "print(get_at_content(\"ATGCATGCAACTGTAGC\"))\n",
    "print(get_at_content(\"aactgtagctagctagcagcgta\"))"
   ]
  },
  {
   "cell_type": "code",
   "execution_count": 29,
   "metadata": {
    "collapsed": false
   },
   "outputs": [
    {
     "name": "stdout",
     "output_type": "stream",
     "text": [
      "0.5\n",
      "0.53\n",
      "0.529\n"
     ]
    }
   ],
   "source": [
    "def get_at_content(dna, sig_figs):\n",
    "    length = len(dna)\n",
    "    a_count = dna.upper().count('A')\n",
    "    t_count = dna.upper().count('T')\n",
    "    at_content = (a_count + t_count) / length\n",
    "    return round(at_content, sig_figs)\n",
    "test_dna = \"ATGCATGCAACTGTAGC\"\n",
    "print(get_at_content(test_dna, 1))\n",
    "print(get_at_content(test_dna, 2))\n",
    "print(get_at_content(test_dna, 3))"
   ]
  },
  {
   "cell_type": "code",
   "execution_count": 35,
   "metadata": {
    "collapsed": false
   },
   "outputs": [
    {
     "data": {
      "text/plain": [
       "0.4545"
      ]
     },
     "execution_count": 35,
     "metadata": {},
     "output_type": "execute_result"
    }
   ],
   "source": [
    "def get_at_content(dna, sig_figs=2):\n",
    "    length = len(dna)\n",
    "    a_count = dna.upper().count('A')\n",
    "    t_count = dna.upper().count('T')\n",
    "    at_content = (a_count + t_count) / length\n",
    "    return round(at_content, sig_figs)\n",
    "get_at_content(\"ATCGTGACTCG\")\n",
    "get_at_content(\"ATCGTGACTCG\", 3)\n",
    "get_at_content(\"ATCGTGACTCG\", sig_figs=4)"
   ]
  },
  {
   "cell_type": "code",
   "execution_count": null,
   "metadata": {
    "collapsed": true
   },
   "outputs": [],
   "source": []
  }
 ],
 "metadata": {
  "kernelspec": {
   "display_name": "Python 3",
   "language": "python",
   "name": "python3"
  },
  "language_info": {
   "codemirror_mode": {
    "name": "ipython",
    "version": 3
   },
   "file_extension": ".py",
   "mimetype": "text/x-python",
   "name": "python",
   "nbconvert_exporter": "python",
   "pygments_lexer": "ipython3",
   "version": "3.6.0"
  }
 },
 "nbformat": 4,
 "nbformat_minor": 2
}
